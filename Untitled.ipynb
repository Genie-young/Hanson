{
 "cells": [
  {
   "cell_type": "code",
   "execution_count": 97,
   "metadata": {},
   "outputs": [
    {
     "data": {
      "text/plain": [
       "Finland            90\n",
       "Portugal           90\n",
       "Chile              90\n",
       "Poland             90\n",
       "Iceland            90\n",
       "Sweden             90\n",
       "Czech Republic     90\n",
       "Estonia            90\n",
       "Hungary            90\n",
       "Greece             90\n",
       "Turkey             90\n",
       "Mexico             90\n",
       "Korea              90\n",
       "Slovak Republic    90\n",
       "Russia             90\n",
       "Japan              90\n",
       "New Zealand        90\n",
       "Ireland            90\n",
       "Italy              90\n",
       "Switzerland        90\n",
       "Norway             90\n",
       "France             89\n",
       "Germany            89\n",
       "Luxembourg         89\n",
       "Spain              89\n",
       "Australia          89\n",
       "United Kingdom     89\n",
       "Austria            89\n",
       "Canada             89\n",
       "Belgium            88\n",
       "United States      88\n",
       "Israel             88\n",
       "Netherlands        88\n",
       "Denmark            88\n",
       "Slovenia           88\n",
       "Brazil             88\n",
       "OECD - Total       74\n",
       "Name: Country, dtype: int64"
      ]
     },
     "execution_count": 97,
     "metadata": {},
     "output_type": "execute_result"
    }
   ],
   "source": [
    "import pandas as pd\n",
    "\n",
    "\n",
    "oecd = pd.read_csv(\"BLI2015_05012019024929717.csv\")\n",
    "oecd.head()\n",
    "oecd[''].value_counts()"
   ]
  },
  {
   "cell_type": "code",
   "execution_count": 115,
   "metadata": {},
   "outputs": [
    {
     "data": {
      "text/plain": [
       "(3292, 17)"
      ]
     },
     "execution_count": 115,
     "metadata": {},
     "output_type": "execute_result"
    }
   ],
   "source": [
    "oecd['Country']\n",
    "oecd.shape"
   ]
  },
  {
   "cell_type": "code",
   "execution_count": 34,
   "metadata": {},
   "outputs": [
    {
     "data": {
      "text/plain": [
       "array([['Australia'],\n",
       "       ['Austria'],\n",
       "       ['Belgium'],\n",
       "       ...,\n",
       "       ['Russia'],\n",
       "       ['Slovenia'],\n",
       "       ['OECD - Total']], dtype=object)"
      ]
     },
     "execution_count": 34,
     "metadata": {},
     "output_type": "execute_result"
    }
   ],
   "source": []
  },
  {
   "cell_type": "code",
   "execution_count": 121,
   "metadata": {
    "scrolled": true
   },
   "outputs": [
    {
     "data": {
      "text/plain": [
       "LOCATION  Country    INDICATOR  Indicator                           MEASURE  Measure  INEQUALITY  Inequality  Unit Code  Unit        PowerCode Code  PowerCode  Reference Period Code  Reference Period  Value  Flag Codes              Flags\n",
       "AUS       Australia  HO_BASE    Dwellings without basic facilities  L        Value    TOT         Total       PC         Percentage  0               Units      NaN                    NaN               1.1    E             Estimated value\n",
       "AUT       Austria    HO_BASE    Dwellings without basic facilities  L        Value    TOT         Total       PC         Percentage  0               Units      NaN                    NaN               1      NaN                       NaN\n",
       "BEL       Belgium    HO_BASE    Dwellings without basic facilities  L        Value    TOT         Total       PC         Percentage  0               Units      NaN                    NaN               2      NaN                       NaN\n",
       "CAN       Canada     HO_BASE    Dwellings without basic facilities  L        Value    TOT         Total       PC         Percentage  0               Units      NaN                    NaN               0.2    NaN                       NaN\n",
       "Name: 1, dtype: object"
      ]
     },
     "execution_count": 121,
     "metadata": {},
     "output_type": "execute_result"
    }
   ],
   "source": [
    "ttt = pd.read_csv(\"test.csv\",names = [1])\n",
    "ttt[1].value_counts\n",
    "ttt[1]"
   ]
  },
  {
   "cell_type": "code",
   "execution_count": 103,
   "metadata": {},
   "outputs": [],
   "source": [
    "tte = pd.read_csv(\"test.c"
   ]
  },
  {
   "cell_type": "code",
   "execution_count": null,
   "metadata": {},
   "outputs": [],
   "source": []
  }
 ],
 "metadata": {
  "kernelspec": {
   "display_name": "Python 3",
   "language": "python",
   "name": "python3"
  },
  "language_info": {
   "codemirror_mode": {
    "name": "ipython",
    "version": 3
   },
   "file_extension": ".py",
   "mimetype": "text/x-python",
   "name": "python",
   "nbconvert_exporter": "python",
   "pygments_lexer": "ipython3",
   "version": "3.6.7"
  }
 },
 "nbformat": 4,
 "nbformat_minor": 2
}
